{
 "cells": [
  {
   "cell_type": "code",
   "execution_count": 1,
   "id": "278fcc1c-a159-4ca4-8fbb-3016af789309",
   "metadata": {},
   "outputs": [],
   "source": [
    "#pip install feature_engine"
   ]
  },
  {
   "cell_type": "code",
   "execution_count": 2,
   "id": "24e853a0-6a75-4fde-bb27-defb6180edd4",
   "metadata": {},
   "outputs": [],
   "source": [
    "#pip install joblib"
   ]
  },
  {
   "cell_type": "code",
   "execution_count": 3,
   "id": "68158d7b-b56a-4a01-a458-f1be2e291c0b",
   "metadata": {},
   "outputs": [],
   "source": [
    "import pandas as pd\n",
    "import joblib\n",
    "\n",
    "from feature_engine.imputation import DropMissingData\n",
    "from feature_engine.encoding import OneHotEncoder\n",
    "from feature_engine.selection import DropFeatures\n",
    "from feature_engine.wrappers import SklearnTransformerWrapper\n",
    "\n",
    "from sklearn.pipeline import Pipeline\n",
    "from sklearn.preprocessing import StandardScaler\n",
    "from sklearn.datasets import make_classification\n",
    "from sklearn.model_selection import train_test_split, GridSearchCV\n",
    "from sklearn.linear_model import LogisticRegression\n",
    "from sklearn.metrics import accuracy_score\n"
   ]
  },
  {
   "cell_type": "code",
   "execution_count": 4,
   "id": "9bb1821a-1d60-4323-818a-f6d1ecd9ffca",
   "metadata": {},
   "outputs": [],
   "source": [
    "# Carga de datos\n",
    "file_location = 'titanic.csv'\n",
    "data = pd.read_csv(file_location, sep=\";\")"
   ]
  },
  {
   "cell_type": "code",
   "execution_count": 5,
   "id": "6cf156cd-f536-4bb2-8e7c-0c73b01e96d4",
   "metadata": {},
   "outputs": [
    {
     "name": "stdout",
     "output_type": "stream",
     "text": [
      "Features to drop ['name', 'sibsp', 'parch', 'ticket', 'cabin', 'embarked']\n"
     ]
    },
    {
     "data": {
      "text/plain": [
       "['pipeline.pkl']"
      ]
     },
     "execution_count": 5,
     "metadata": {},
     "output_type": "execute_result"
    }
   ],
   "source": [
    "# Feature engineering\n",
    "target = \"survived\"\n",
    "features = [\"sex\", \"pclass\", \"fare\", \"age\"]\n",
    "features_to_drop = [f for f in data.columns if f not in features and f!= target]\n",
    "\n",
    "print(f\"Features to drop {features_to_drop}\")\n",
    "\n",
    "ohe = OneHotEncoder(variables=[\"sex\"])\n",
    "drf = DropFeatures(features_to_drop=features_to_drop)\n",
    "dmd = DropMissingData(missing_only=False)\n",
    "stw = SklearnTransformerWrapper(StandardScaler(), variables=[\"pclass\", \"fare\", \"age\"])\n",
    "\n",
    "pipeline = Pipeline([\n",
    "    (\"drop_features\", drf),\n",
    "    (\"one_hot_encoder\", ohe),\n",
    "    (\"drop_missing_data\", dmd),\n",
    "    (\"standard_scaler\", stw),\n",
    "])\n",
    "\n",
    "df = pipeline.fit(data)\n",
    "\n",
    "# Almacenamos el pipeline de transformación de datos\n",
    "joblib.dump(pipeline, \"pipeline.pkl\")"
   ]
  },
  {
   "cell_type": "code",
   "execution_count": 6,
   "id": "222e5b9c-e91a-4409-982c-5ec5de11e4a2",
   "metadata": {},
   "outputs": [
    {
     "data": {
      "text/html": [
       "<div>\n",
       "<style scoped>\n",
       "    .dataframe tbody tr th:only-of-type {\n",
       "        vertical-align: middle;\n",
       "    }\n",
       "\n",
       "    .dataframe tbody tr th {\n",
       "        vertical-align: top;\n",
       "    }\n",
       "\n",
       "    .dataframe thead th {\n",
       "        text-align: right;\n",
       "    }\n",
       "</style>\n",
       "<table border=\"1\" class=\"dataframe\">\n",
       "  <thead>\n",
       "    <tr style=\"text-align: right;\">\n",
       "      <th></th>\n",
       "      <th>pclass</th>\n",
       "      <th>name</th>\n",
       "      <th>sex</th>\n",
       "      <th>age</th>\n",
       "      <th>sibsp</th>\n",
       "      <th>parch</th>\n",
       "      <th>ticket</th>\n",
       "      <th>fare</th>\n",
       "      <th>cabin</th>\n",
       "      <th>embarked</th>\n",
       "      <th>survived</th>\n",
       "    </tr>\n",
       "  </thead>\n",
       "  <tbody>\n",
       "    <tr>\n",
       "      <th>0</th>\n",
       "      <td>1</td>\n",
       "      <td>Allen, Miss. Elisabeth Walton</td>\n",
       "      <td>female</td>\n",
       "      <td>29.0000</td>\n",
       "      <td>0</td>\n",
       "      <td>0</td>\n",
       "      <td>24160</td>\n",
       "      <td>2113375.00</td>\n",
       "      <td>B5</td>\n",
       "      <td>S</td>\n",
       "      <td>1</td>\n",
       "    </tr>\n",
       "    <tr>\n",
       "      <th>1</th>\n",
       "      <td>1</td>\n",
       "      <td>Allison, Master. Hudson Trevor</td>\n",
       "      <td>male</td>\n",
       "      <td>0.9167</td>\n",
       "      <td>1</td>\n",
       "      <td>2</td>\n",
       "      <td>113781</td>\n",
       "      <td>151.55</td>\n",
       "      <td>C22 C26</td>\n",
       "      <td>S</td>\n",
       "      <td>1</td>\n",
       "    </tr>\n",
       "    <tr>\n",
       "      <th>2</th>\n",
       "      <td>1</td>\n",
       "      <td>Allison, Miss. Helen Loraine</td>\n",
       "      <td>female</td>\n",
       "      <td>2.0000</td>\n",
       "      <td>1</td>\n",
       "      <td>2</td>\n",
       "      <td>113781</td>\n",
       "      <td>151.55</td>\n",
       "      <td>C22 C26</td>\n",
       "      <td>S</td>\n",
       "      <td>0</td>\n",
       "    </tr>\n",
       "  </tbody>\n",
       "</table>\n",
       "</div>"
      ],
      "text/plain": [
       "   pclass                            name     sex      age  sibsp  parch  \\\n",
       "0       1   Allen, Miss. Elisabeth Walton  female  29.0000      0      0   \n",
       "1       1  Allison, Master. Hudson Trevor    male   0.9167      1      2   \n",
       "2       1    Allison, Miss. Helen Loraine  female   2.0000      1      2   \n",
       "\n",
       "   ticket        fare    cabin embarked  survived  \n",
       "0   24160  2113375.00       B5        S         1  \n",
       "1  113781      151.55  C22 C26        S         1  \n",
       "2  113781      151.55  C22 C26        S         0  "
      ]
     },
     "metadata": {},
     "output_type": "display_data"
    },
    {
     "data": {
      "text/html": [
       "<div>\n",
       "<style scoped>\n",
       "    .dataframe tbody tr th:only-of-type {\n",
       "        vertical-align: middle;\n",
       "    }\n",
       "\n",
       "    .dataframe tbody tr th {\n",
       "        vertical-align: top;\n",
       "    }\n",
       "\n",
       "    .dataframe thead th {\n",
       "        text-align: right;\n",
       "    }\n",
       "</style>\n",
       "<table border=\"1\" class=\"dataframe\">\n",
       "  <thead>\n",
       "    <tr style=\"text-align: right;\">\n",
       "      <th></th>\n",
       "      <th>pclass</th>\n",
       "      <th>age</th>\n",
       "      <th>fare</th>\n",
       "      <th>survived</th>\n",
       "      <th>sex_female</th>\n",
       "      <th>sex_male</th>\n",
       "    </tr>\n",
       "  </thead>\n",
       "  <tbody>\n",
       "    <tr>\n",
       "      <th>0</th>\n",
       "      <td>-1.434601</td>\n",
       "      <td>-0.059228</td>\n",
       "      <td>4.408180</td>\n",
       "      <td>1</td>\n",
       "      <td>1</td>\n",
       "      <td>0</td>\n",
       "    </tr>\n",
       "    <tr>\n",
       "      <th>1</th>\n",
       "      <td>-1.434601</td>\n",
       "      <td>-2.011855</td>\n",
       "      <td>-0.319409</td>\n",
       "      <td>1</td>\n",
       "      <td>0</td>\n",
       "      <td>1</td>\n",
       "    </tr>\n",
       "    <tr>\n",
       "      <th>2</th>\n",
       "      <td>-1.434601</td>\n",
       "      <td>-1.936534</td>\n",
       "      <td>-0.319409</td>\n",
       "      <td>0</td>\n",
       "      <td>1</td>\n",
       "      <td>0</td>\n",
       "    </tr>\n",
       "  </tbody>\n",
       "</table>\n",
       "</div>"
      ],
      "text/plain": [
       "     pclass       age      fare  survived  sex_female  sex_male\n",
       "0 -1.434601 -0.059228  4.408180         1           1         0\n",
       "1 -1.434601 -2.011855 -0.319409         1           0         1\n",
       "2 -1.434601 -1.936534 -0.319409         0           1         0"
      ]
     },
     "metadata": {},
     "output_type": "display_data"
    }
   ],
   "source": [
    "# TRATAMIENTO DE DATOS\n",
    "# Aplicamos el pipeline de transformación y lo almacenamos en una nueva variable df\n",
    "\n",
    "display(data.head(3))\n",
    "df = pipeline.transform(data)\n",
    "display(df.head(3))"
   ]
  },
  {
   "cell_type": "code",
   "execution_count": 7,
   "id": "35b05971-17b1-42c1-a513-2223d25dd834",
   "metadata": {},
   "outputs": [
    {
     "data": {
      "text/html": [
       "<div>\n",
       "<style scoped>\n",
       "    .dataframe tbody tr th:only-of-type {\n",
       "        vertical-align: middle;\n",
       "    }\n",
       "\n",
       "    .dataframe tbody tr th {\n",
       "        vertical-align: top;\n",
       "    }\n",
       "\n",
       "    .dataframe thead th {\n",
       "        text-align: right;\n",
       "    }\n",
       "</style>\n",
       "<table border=\"1\" class=\"dataframe\">\n",
       "  <thead>\n",
       "    <tr style=\"text-align: right;\">\n",
       "      <th></th>\n",
       "      <th>pclass</th>\n",
       "      <th>age</th>\n",
       "      <th>fare</th>\n",
       "      <th>sex_female</th>\n",
       "      <th>sex_male</th>\n",
       "    </tr>\n",
       "  </thead>\n",
       "  <tbody>\n",
       "    <tr>\n",
       "      <th>0</th>\n",
       "      <td>-1.434601</td>\n",
       "      <td>-0.059228</td>\n",
       "      <td>4.408180</td>\n",
       "      <td>1</td>\n",
       "      <td>0</td>\n",
       "    </tr>\n",
       "    <tr>\n",
       "      <th>1</th>\n",
       "      <td>-1.434601</td>\n",
       "      <td>-2.011855</td>\n",
       "      <td>-0.319409</td>\n",
       "      <td>0</td>\n",
       "      <td>1</td>\n",
       "    </tr>\n",
       "    <tr>\n",
       "      <th>2</th>\n",
       "      <td>-1.434601</td>\n",
       "      <td>-1.936534</td>\n",
       "      <td>-0.319409</td>\n",
       "      <td>1</td>\n",
       "      <td>0</td>\n",
       "    </tr>\n",
       "  </tbody>\n",
       "</table>\n",
       "</div>"
      ],
      "text/plain": [
       "     pclass       age      fare  sex_female  sex_male\n",
       "0 -1.434601 -0.059228  4.408180           1         0\n",
       "1 -1.434601 -2.011855 -0.319409           0         1\n",
       "2 -1.434601 -1.936534 -0.319409           1         0"
      ]
     },
     "metadata": {},
     "output_type": "display_data"
    },
    {
     "data": {
      "text/plain": [
       "0    1\n",
       "1    1\n",
       "2    0\n",
       "Name: survived, dtype: int64"
      ]
     },
     "metadata": {},
     "output_type": "display_data"
    }
   ],
   "source": [
    "# Segmentamos el dataframe resultante en características y variable objetivo\n",
    "X = df.drop(target, axis=1)\n",
    "y = df[target]\n",
    "\n",
    "display(X.head(3))\n",
    "display(y.head(3))"
   ]
  },
  {
   "cell_type": "code",
   "execution_count": 8,
   "id": "d529ca45-78c0-43a5-acdf-0f2042ac368d",
   "metadata": {},
   "outputs": [
    {
     "data": {
      "text/plain": [
       "{'C': 0.01, 'fit_intercept': False, 'max_iter': 5000, 'solver': 'newton-cg'}"
      ]
     },
     "execution_count": 8,
     "metadata": {},
     "output_type": "execute_result"
    }
   ],
   "source": [
    "# Definimos y entrenamos el modelo de regresión logística \n",
    "# buscando los mejores hiperparámetros mediante GridSearchCV\n",
    "\n",
    "grid={\n",
    "    \"fit_intercept\":[True, False], \n",
    "    \"solver\": [\"newton-cg\", \"lbfgs\", \"liblinear\", \"sag\", \"saga\"],\n",
    "    \"max_iter\": [5000, 10000, 20000],\n",
    "    \"C\": [0.01, 0.1, 1]\n",
    "}\n",
    "\n",
    "model=GridSearchCV(LogisticRegression(), grid, cv=25)\n",
    "model.fit(X, y)\n",
    "model.best_params_"
   ]
  },
  {
   "cell_type": "code",
   "execution_count": 9,
   "id": "e8954f7c-b7f0-46f5-a303-373fc9ceddeb",
   "metadata": {},
   "outputs": [
    {
     "data": {
      "text/plain": [
       "0.7866028708133971"
      ]
     },
     "execution_count": 9,
     "metadata": {},
     "output_type": "execute_result"
    }
   ],
   "source": [
    "# Comprobamos precisión del modelo en entrenamiento (El 100% de la muestra sin nulos)\n",
    "accuracy_score(y, model.predict(X))"
   ]
  },
  {
   "cell_type": "code",
   "execution_count": 10,
   "id": "fa8a1018-b003-4458-866a-9f91f8daf397",
   "metadata": {},
   "outputs": [
    {
     "data": {
      "text/plain": [
       "['model.pkl']"
      ]
     },
     "execution_count": 10,
     "metadata": {},
     "output_type": "execute_result"
    }
   ],
   "source": [
    "# Almacenamos el modelo entrenado\n",
    "joblib.dump(model, \"model.pkl\")"
   ]
  },
  {
   "cell_type": "code",
   "execution_count": null,
   "id": "e46d8951-4c09-49d5-ac4c-d04bfdc5cbb0",
   "metadata": {},
   "outputs": [],
   "source": []
  }
 ],
 "metadata": {
  "kernelspec": {
   "display_name": "Python 3",
   "language": "python",
   "name": "python3"
  },
  "language_info": {
   "codemirror_mode": {
    "name": "ipython",
    "version": 3
   },
   "file_extension": ".py",
   "mimetype": "text/x-python",
   "name": "python",
   "nbconvert_exporter": "python",
   "pygments_lexer": "ipython3",
   "version": "3.8.8"
  }
 },
 "nbformat": 4,
 "nbformat_minor": 5
}
