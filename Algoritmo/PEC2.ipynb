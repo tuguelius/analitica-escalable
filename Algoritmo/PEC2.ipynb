{
 "cells": [
  {
   "cell_type": "code",
   "execution_count": 1,
   "id": "278fcc1c-a159-4ca4-8fbb-3016af789309",
   "metadata": {},
   "outputs": [],
   "source": [
    "#pip install feature_engine"
   ]
  },
  {
   "cell_type": "code",
   "execution_count": 2,
   "id": "24e853a0-6a75-4fde-bb27-defb6180edd4",
   "metadata": {},
   "outputs": [],
   "source": [
    "#pip install joblib"
   ]
  },
  {
   "cell_type": "code",
   "execution_count": 3,
   "id": "68158d7b-b56a-4a01-a458-f1be2e291c0b",
   "metadata": {},
   "outputs": [],
   "source": [
    "import pandas as pd\n",
    "import joblib\n",
    "\n",
    "from feature_engine.imputation import MeanMedianImputer, DropMissingData\n",
    "from feature_engine.encoding import OneHotEncoder\n",
    "from feature_engine.selection import DropFeatures\n",
    "from feature_engine.wrappers import SklearnTransformerWrapper\n",
    "\n",
    "from sklearn.pipeline import Pipeline\n",
    "from sklearn.preprocessing import StandardScaler\n",
    "from sklearn.datasets import make_classification\n",
    "from sklearn.model_selection import train_test_split, GridSearchCV\n",
    "from sklearn.linear_model import LogisticRegressionCV, LogisticRegression\n",
    "from sklearn.metrics import confusion_matrix, accuracy_score\n"
   ]
  },
  {
   "cell_type": "code",
   "execution_count": 4,
   "id": "9bb1821a-1d60-4323-818a-f6d1ecd9ffca",
   "metadata": {},
   "outputs": [],
   "source": [
    "# Carga de datos\n",
    "file_location = 'titanic.csv'\n",
    "data = pd.read_csv(file_location, sep=\";\")"
   ]
  },
  {
   "cell_type": "code",
   "execution_count": 5,
   "id": "6cf156cd-f536-4bb2-8e7c-0c73b01e96d4",
   "metadata": {},
   "outputs": [
    {
     "data": {
      "text/plain": [
       "['pipeline.pkl']"
      ]
     },
     "execution_count": 5,
     "metadata": {},
     "output_type": "execute_result"
    }
   ],
   "source": [
    "# Feature engineering\n",
    "target = \"survived\"\n",
    "features = [\"sex\", \"pclass\", \"fare\", \"age\"]\n",
    "\n",
    "ohe = OneHotEncoder(variables=[\"sex\"])\n",
    "dmd = DropMissingData(missing_only=True, variables=[\"age\"])\n",
    "stw = SklearnTransformerWrapper(StandardScaler(), variables=[\"pclass\", \"fare\", \"age\"])\n",
    "\n",
    "pipeline = Pipeline([\n",
    "    (\"one_hot_encoder\", ohe),\n",
    "    (\"drop_missing_data\", dmd),\n",
    "    (\"standard_scaler\", stw),\n",
    "])\n",
    "\n",
    "# Almacenamos el pipeline de transformación de datos\n",
    "joblib.dump(pipeline, \"pipeline.pkl\")"
   ]
  },
  {
   "cell_type": "code",
   "execution_count": 12,
   "id": "da0b880b-ca59-41cd-8440-95849af6dc19",
   "metadata": {},
   "outputs": [
    {
     "data": {
      "text/html": [
       "<div>\n",
       "<style scoped>\n",
       "    .dataframe tbody tr th:only-of-type {\n",
       "        vertical-align: middle;\n",
       "    }\n",
       "\n",
       "    .dataframe tbody tr th {\n",
       "        vertical-align: top;\n",
       "    }\n",
       "\n",
       "    .dataframe thead th {\n",
       "        text-align: right;\n",
       "    }\n",
       "</style>\n",
       "<table border=\"1\" class=\"dataframe\">\n",
       "  <thead>\n",
       "    <tr style=\"text-align: right;\">\n",
       "      <th></th>\n",
       "      <th>sex</th>\n",
       "      <th>pclass</th>\n",
       "      <th>fare</th>\n",
       "      <th>age</th>\n",
       "      <th>survived</th>\n",
       "    </tr>\n",
       "  </thead>\n",
       "  <tbody>\n",
       "    <tr>\n",
       "      <th>0</th>\n",
       "      <td>female</td>\n",
       "      <td>1</td>\n",
       "      <td>2113375.00</td>\n",
       "      <td>29.0000</td>\n",
       "      <td>1</td>\n",
       "    </tr>\n",
       "    <tr>\n",
       "      <th>1</th>\n",
       "      <td>male</td>\n",
       "      <td>1</td>\n",
       "      <td>151.55</td>\n",
       "      <td>0.9167</td>\n",
       "      <td>1</td>\n",
       "    </tr>\n",
       "    <tr>\n",
       "      <th>2</th>\n",
       "      <td>female</td>\n",
       "      <td>1</td>\n",
       "      <td>151.55</td>\n",
       "      <td>2.0000</td>\n",
       "      <td>0</td>\n",
       "    </tr>\n",
       "    <tr>\n",
       "      <th>3</th>\n",
       "      <td>male</td>\n",
       "      <td>1</td>\n",
       "      <td>151.55</td>\n",
       "      <td>30.0000</td>\n",
       "      <td>0</td>\n",
       "    </tr>\n",
       "    <tr>\n",
       "      <th>4</th>\n",
       "      <td>female</td>\n",
       "      <td>1</td>\n",
       "      <td>151.55</td>\n",
       "      <td>25.0000</td>\n",
       "      <td>0</td>\n",
       "    </tr>\n",
       "    <tr>\n",
       "      <th>...</th>\n",
       "      <td>...</td>\n",
       "      <td>...</td>\n",
       "      <td>...</td>\n",
       "      <td>...</td>\n",
       "      <td>...</td>\n",
       "    </tr>\n",
       "    <tr>\n",
       "      <th>1303</th>\n",
       "      <td>female</td>\n",
       "      <td>3</td>\n",
       "      <td>144542.00</td>\n",
       "      <td>14.5000</td>\n",
       "      <td>0</td>\n",
       "    </tr>\n",
       "    <tr>\n",
       "      <th>1304</th>\n",
       "      <td>female</td>\n",
       "      <td>3</td>\n",
       "      <td>144542.00</td>\n",
       "      <td>NaN</td>\n",
       "      <td>0</td>\n",
       "    </tr>\n",
       "    <tr>\n",
       "      <th>1305</th>\n",
       "      <td>male</td>\n",
       "      <td>3</td>\n",
       "      <td>7225.00</td>\n",
       "      <td>26.5000</td>\n",
       "      <td>0</td>\n",
       "    </tr>\n",
       "    <tr>\n",
       "      <th>1306</th>\n",
       "      <td>male</td>\n",
       "      <td>3</td>\n",
       "      <td>7225.00</td>\n",
       "      <td>27.0000</td>\n",
       "      <td>0</td>\n",
       "    </tr>\n",
       "    <tr>\n",
       "      <th>1307</th>\n",
       "      <td>male</td>\n",
       "      <td>3</td>\n",
       "      <td>7875.00</td>\n",
       "      <td>29.0000</td>\n",
       "      <td>0</td>\n",
       "    </tr>\n",
       "  </tbody>\n",
       "</table>\n",
       "<p>1308 rows × 5 columns</p>\n",
       "</div>"
      ],
      "text/plain": [
       "         sex  pclass        fare      age  survived\n",
       "0     female       1  2113375.00  29.0000         1\n",
       "1       male       1      151.55   0.9167         1\n",
       "2     female       1      151.55   2.0000         0\n",
       "3       male       1      151.55  30.0000         0\n",
       "4     female       1      151.55  25.0000         0\n",
       "...      ...     ...         ...      ...       ...\n",
       "1303  female       3   144542.00  14.5000         0\n",
       "1304  female       3   144542.00      NaN         0\n",
       "1305    male       3     7225.00  26.5000         0\n",
       "1306    male       3     7225.00  27.0000         0\n",
       "1307    male       3     7875.00  29.0000         0\n",
       "\n",
       "[1308 rows x 5 columns]"
      ]
     },
     "execution_count": 12,
     "metadata": {},
     "output_type": "execute_result"
    }
   ],
   "source": [
    "# Nos quedamos solamente las características que vamos a necesitar para la predicción\n",
    "data = data[features+[target]]\n",
    "data"
   ]
  },
  {
   "cell_type": "code",
   "execution_count": 11,
   "id": "222e5b9c-e91a-4409-982c-5ec5de11e4a2",
   "metadata": {},
   "outputs": [
    {
     "data": {
      "text/html": [
       "<div>\n",
       "<style scoped>\n",
       "    .dataframe tbody tr th:only-of-type {\n",
       "        vertical-align: middle;\n",
       "    }\n",
       "\n",
       "    .dataframe tbody tr th {\n",
       "        vertical-align: top;\n",
       "    }\n",
       "\n",
       "    .dataframe thead th {\n",
       "        text-align: right;\n",
       "    }\n",
       "</style>\n",
       "<table border=\"1\" class=\"dataframe\">\n",
       "  <thead>\n",
       "    <tr style=\"text-align: right;\">\n",
       "      <th></th>\n",
       "      <th>pclass</th>\n",
       "      <th>fare</th>\n",
       "      <th>age</th>\n",
       "      <th>survived</th>\n",
       "      <th>sex_female</th>\n",
       "      <th>sex_male</th>\n",
       "    </tr>\n",
       "  </thead>\n",
       "  <tbody>\n",
       "    <tr>\n",
       "      <th>0</th>\n",
       "      <td>-1.434601</td>\n",
       "      <td>4.408180</td>\n",
       "      <td>-0.059228</td>\n",
       "      <td>1</td>\n",
       "      <td>1</td>\n",
       "      <td>0</td>\n",
       "    </tr>\n",
       "    <tr>\n",
       "      <th>1</th>\n",
       "      <td>-1.434601</td>\n",
       "      <td>-0.319409</td>\n",
       "      <td>-2.011855</td>\n",
       "      <td>1</td>\n",
       "      <td>0</td>\n",
       "      <td>1</td>\n",
       "    </tr>\n",
       "    <tr>\n",
       "      <th>2</th>\n",
       "      <td>-1.434601</td>\n",
       "      <td>-0.319409</td>\n",
       "      <td>-1.936534</td>\n",
       "      <td>0</td>\n",
       "      <td>1</td>\n",
       "      <td>0</td>\n",
       "    </tr>\n",
       "    <tr>\n",
       "      <th>3</th>\n",
       "      <td>-1.434601</td>\n",
       "      <td>-0.319409</td>\n",
       "      <td>0.010302</td>\n",
       "      <td>0</td>\n",
       "      <td>0</td>\n",
       "      <td>1</td>\n",
       "    </tr>\n",
       "    <tr>\n",
       "      <th>4</th>\n",
       "      <td>-1.434601</td>\n",
       "      <td>-0.319409</td>\n",
       "      <td>-0.337347</td>\n",
       "      <td>0</td>\n",
       "      <td>1</td>\n",
       "      <td>0</td>\n",
       "    </tr>\n",
       "    <tr>\n",
       "      <th>...</th>\n",
       "      <td>...</td>\n",
       "      <td>...</td>\n",
       "      <td>...</td>\n",
       "      <td>...</td>\n",
       "      <td>...</td>\n",
       "      <td>...</td>\n",
       "    </tr>\n",
       "    <tr>\n",
       "      <th>1300</th>\n",
       "      <td>0.943128</td>\n",
       "      <td>-0.303584</td>\n",
       "      <td>1.088014</td>\n",
       "      <td>0</td>\n",
       "      <td>0</td>\n",
       "      <td>1</td>\n",
       "    </tr>\n",
       "    <tr>\n",
       "      <th>1303</th>\n",
       "      <td>0.943128</td>\n",
       "      <td>0.003614</td>\n",
       "      <td>-1.067411</td>\n",
       "      <td>0</td>\n",
       "      <td>1</td>\n",
       "      <td>0</td>\n",
       "    </tr>\n",
       "    <tr>\n",
       "      <th>1305</th>\n",
       "      <td>0.943128</td>\n",
       "      <td>-0.303584</td>\n",
       "      <td>-0.233052</td>\n",
       "      <td>0</td>\n",
       "      <td>0</td>\n",
       "      <td>1</td>\n",
       "    </tr>\n",
       "    <tr>\n",
       "      <th>1306</th>\n",
       "      <td>0.943128</td>\n",
       "      <td>-0.303584</td>\n",
       "      <td>-0.198288</td>\n",
       "      <td>0</td>\n",
       "      <td>0</td>\n",
       "      <td>1</td>\n",
       "    </tr>\n",
       "    <tr>\n",
       "      <th>1307</th>\n",
       "      <td>0.943128</td>\n",
       "      <td>-0.302130</td>\n",
       "      <td>-0.059228</td>\n",
       "      <td>0</td>\n",
       "      <td>0</td>\n",
       "      <td>1</td>\n",
       "    </tr>\n",
       "  </tbody>\n",
       "</table>\n",
       "<p>1045 rows × 6 columns</p>\n",
       "</div>"
      ],
      "text/plain": [
       "        pclass      fare       age  survived  sex_female  sex_male\n",
       "0    -1.434601  4.408180 -0.059228         1           1         0\n",
       "1    -1.434601 -0.319409 -2.011855         1           0         1\n",
       "2    -1.434601 -0.319409 -1.936534         0           1         0\n",
       "3    -1.434601 -0.319409  0.010302         0           0         1\n",
       "4    -1.434601 -0.319409 -0.337347         0           1         0\n",
       "...        ...       ...       ...       ...         ...       ...\n",
       "1300  0.943128 -0.303584  1.088014         0           0         1\n",
       "1303  0.943128  0.003614 -1.067411         0           1         0\n",
       "1305  0.943128 -0.303584 -0.233052         0           0         1\n",
       "1306  0.943128 -0.303584 -0.198288         0           0         1\n",
       "1307  0.943128 -0.302130 -0.059228         0           0         1\n",
       "\n",
       "[1045 rows x 6 columns]"
      ]
     },
     "execution_count": 11,
     "metadata": {},
     "output_type": "execute_result"
    }
   ],
   "source": [
    "# Aplicamos el pipeline de transformación y lo almacenamos en una nueva variable\n",
    "df = pipeline.fit_transform(data)\n",
    "df"
   ]
  },
  {
   "cell_type": "code",
   "execution_count": 7,
   "id": "f6efdbb0-c1f5-4c0b-9ce3-7f0834c8bee3",
   "metadata": {},
   "outputs": [],
   "source": [
    "# Segmentamos en datos de entrenamiento y test \n",
    "y = df[target]\n",
    "X = df.drop(target, axis=1)\n",
    "X_train, X_test, y_train, y_test = train_test_split(X, y, test_size=0.75, random_state=0, shuffle=True)\n"
   ]
  },
  {
   "cell_type": "code",
   "execution_count": 8,
   "id": "d529ca45-78c0-43a5-acdf-0f2042ac368d",
   "metadata": {},
   "outputs": [
    {
     "data": {
      "text/plain": [
       "{'C': 0.01, 'fit_intercept': False, 'max_iter': 5000, 'solver': 'newton-cg'}"
      ]
     },
     "execution_count": 8,
     "metadata": {},
     "output_type": "execute_result"
    }
   ],
   "source": [
    "# Definimos y entrenamos el modelo de regresión logística basándonos en los mejores hiperparámetros\n",
    "grid={\n",
    "    \"fit_intercept\":[True, False], \n",
    "    \"solver\": [\"newton-cg\", \"lbfgs\", \"liblinear\", \"sag\", \"saga\"],\n",
    "    \"max_iter\": [5000, 10000, 20000],\n",
    "    \"C\": [0.01, 0.1, 0.5, 1]\n",
    "}\n",
    "\n",
    "model=GridSearchCV(LogisticRegression(), grid, cv=25)\n",
    "model.fit(X_train, y_train)\n",
    "model.best_params_"
   ]
  },
  {
   "cell_type": "code",
   "execution_count": 9,
   "id": "e8954f7c-b7f0-46f5-a303-373fc9ceddeb",
   "metadata": {},
   "outputs": [
    {
     "data": {
      "text/plain": [
       "0.7959183673469388"
      ]
     },
     "execution_count": 9,
     "metadata": {},
     "output_type": "execute_result"
    }
   ],
   "source": [
    "# Comprobamos precisión del modelo sobre los datos de test\n",
    "accuracy_score(y_test, model.predict(X_test))"
   ]
  },
  {
   "cell_type": "code",
   "execution_count": 10,
   "id": "fa8a1018-b003-4458-866a-9f91f8daf397",
   "metadata": {},
   "outputs": [
    {
     "data": {
      "text/plain": [
       "['model.pkl']"
      ]
     },
     "execution_count": 10,
     "metadata": {},
     "output_type": "execute_result"
    }
   ],
   "source": [
    "# Almacenamos el modelo entrenado\n",
    "joblib.dump(model, \"model.pkl\")"
   ]
  },
  {
   "cell_type": "code",
   "execution_count": 16,
   "id": "05bcf142-c58a-495d-a8b9-4f10800c0fea",
   "metadata": {},
   "outputs": [
    {
     "name": "stdout",
     "output_type": "stream",
     "text": [
      "Name: feature-engine\n",
      "Version: 1.5.1\n",
      "Summary: Feature engineering package with Scikit-learn's fit transform functionality\n",
      "Home-page: http://github.com/feature-engine/feature_engine\n",
      "Author: Soledad Galli\n",
      "Author-email: solegalli@protonmail.com\n",
      "License: BSD 3 clause\n",
      "Location: /opt/anaconda3/lib/python3.8/site-packages\n",
      "Requires: numpy, scipy, statsmodels, scikit-learn, pandas\n",
      "Required-by: \n",
      "Note: you may need to restart the kernel to use updated packages.\n"
     ]
    }
   ],
   "source": [
    "pip show feature_engine"
   ]
  },
  {
   "cell_type": "code",
   "execution_count": null,
   "id": "e46d8951-4c09-49d5-ac4c-d04bfdc5cbb0",
   "metadata": {},
   "outputs": [],
   "source": []
  }
 ],
 "metadata": {
  "kernelspec": {
   "display_name": "Python 3",
   "language": "python",
   "name": "python3"
  },
  "language_info": {
   "codemirror_mode": {
    "name": "ipython",
    "version": 3
   },
   "file_extension": ".py",
   "mimetype": "text/x-python",
   "name": "python",
   "nbconvert_exporter": "python",
   "pygments_lexer": "ipython3",
   "version": "3.8.8"
  }
 },
 "nbformat": 4,
 "nbformat_minor": 5
}
